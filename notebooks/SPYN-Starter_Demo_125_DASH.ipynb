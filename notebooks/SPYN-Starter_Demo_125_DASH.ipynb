{
 "cells": [
  {
   "cell_type": "markdown",
   "metadata": {},
   "source": [
    "## SPYN Dash Demo"
   ]
  },
  {
   "cell_type": "code",
   "execution_count": 1,
   "metadata": {},
   "outputs": [
    {
     "name": "stdout",
     "output_type": "stream",
     "text": [
      "Angle in degrees : 154.07999999999998\n",
      "Angle in steps per thousand: 428\n",
      "Id : 0.01131 Amp\n",
      "Iq : 0.43017 Amp\n",
      "Speed in RPM : 1030\n"
     ]
    }
   ],
   "source": [
    "%run -i motor_control_dash_setup.py"
   ]
  },
  {
   "cell_type": "code",
   "execution_count": null,
   "metadata": {
    "collapsed": true
   },
   "outputs": [],
   "source": [
    "%run -i dash_app.py"
   ]
  },
  {
   "cell_type": "code",
   "execution_count": null,
   "metadata": {
    "scrolled": false
   },
   "outputs": [
    {
     "data": {
      "text/html": [
       "<iframe src=\"http://192.168.2.99:9999\" width=900 height=600></iframe>"
      ]
     },
     "metadata": {},
     "output_type": "display_data"
    },
    {
     "name": "stderr",
     "output_type": "stream",
     "text": [
      " * Running on http://0.0.0.0:9999/ (Press CTRL+C to quit)\n",
      "/opt/python3.6/lib/python3.6/site-packages/dash/resources.py:36: UserWarning:\n",
      "\n",
      "A local version of https://code.jquery.com/jquery-3.2.1.min.js is not available\n",
      "\n",
      "/opt/python3.6/lib/python3.6/site-packages/dash/resources.py:36: UserWarning:\n",
      "\n",
      "A local version of https://cdn.rawgit.com/plotly/dash-app-stylesheets/a3401de132a6d0b652ba11548736b1d1e80aa10d/dash-goldman-sachs-report-js.js is not available\n",
      "\n",
      "/opt/python3.6/lib/python3.6/site-packages/dash/resources.py:36: UserWarning:\n",
      "\n",
      "A local version of http://getbootstrap.com/dist/js/bootstrap.min.js is not available\n",
      "\n",
      "/opt/python3.6/lib/python3.6/site-packages/dash/resources.py:36: UserWarning:\n",
      "\n",
      "A local version of https://fonts.googleapis.com/css?family=Raleway:400,300,600 is not available\n",
      "\n",
      "/opt/python3.6/lib/python3.6/site-packages/dash/resources.py:36: UserWarning:\n",
      "\n",
      "A local version of https://maxcdn.bootstrapcdn.com/font-awesome/4.7.0/css/font-awesome.min.css is not available\n",
      "\n",
      "/opt/python3.6/lib/python3.6/site-packages/dash/resources.py:36: UserWarning:\n",
      "\n",
      "A local version of http://getbootstrap.com/dist/css/bootstrap.min.css is not available\n",
      "\n",
      "192.168.2.90 - - [26/Jan/2018 22:40:33] \"GET / HTTP/1.1\" 200 -\n",
      "192.168.2.90 - - [26/Jan/2018 22:40:33] \"GET /_dash-component-suites/dash_core_components/rc-slider@6.1.2.css?v=0.18.1 HTTP/1.1\" 200 -\n",
      "192.168.2.90 - - [26/Jan/2018 22:40:33] \"GET /_dash-component-suites/dash_core_components/react-select@1.0.0-rc.3.min.css?v=0.18.1 HTTP/1.1\" 200 -\n",
      "192.168.2.90 - - [26/Jan/2018 22:40:33] \"GET /_dash-component-suites/dash_core_components/react-virtualized@9.9.0.css?v=0.18.1 HTTP/1.1\" 200 -\n",
      "192.168.2.90 - - [26/Jan/2018 22:40:33] \"GET /_dash-component-suites/dash_core_components/react-virtualized-select@3.1.0.css?v=0.18.1 HTTP/1.1\" 200 -\n",
      "192.168.2.90 - - [26/Jan/2018 22:40:33] \"GET /_dash-component-suites/dash_core_components/react-dates@12.3.0.css?v=0.18.1 HTTP/1.1\" 200 -\n",
      "192.168.2.90 - - [26/Jan/2018 22:40:33] \"GET /_dash-component-suites/dash_renderer/react@15.4.2.min.js?v=0.11.2 HTTP/1.1\" 200 -\n",
      "192.168.2.90 - - [26/Jan/2018 22:40:33] \"GET /_dash-component-suites/dash_renderer/react-dom@15.4.2.min.js?v=0.11.2 HTTP/1.1\" 200 -\n",
      "192.168.2.90 - - [26/Jan/2018 22:40:33] \"GET /_dash-component-suites/dash_html_components/bundle.js?v=0.8.0 HTTP/1.1\" 200 -\n",
      "192.168.2.90 - - [26/Jan/2018 22:40:33] \"GET /_dash-component-suites/dash_core_components/plotly-1.33.1.min.js?v=0.18.1 HTTP/1.1\" 200 -\n",
      "192.168.2.90 - - [26/Jan/2018 22:40:33] \"GET /_dash-component-suites/dash_core_components/bundle.js?v=0.18.1 HTTP/1.1\" 200 -\n",
      "192.168.2.90 - - [26/Jan/2018 22:40:33] \"GET /_dash-component-suites/dash_renderer/bundle.js?v=0.11.2 HTTP/1.1\" 200 -\n",
      "192.168.2.90 - - [26/Jan/2018 22:40:38] \"GET /_dash-layout HTTP/1.1\" 200 -\n",
      "192.168.2.90 - - [26/Jan/2018 22:40:38] \"GET /_dash-dependencies HTTP/1.1\" 200 -\n"
     ]
    }
   ],
   "source": [
    "show_app(app)"
   ]
  },
  {
   "cell_type": "markdown",
   "metadata": {},
   "source": [
    "#### Stop Motor"
   ]
  },
  {
   "cell_type": "code",
   "execution_count": null,
   "metadata": {
    "collapsed": true
   },
   "outputs": [],
   "source": [
    "xlnk.xlnk_reset()\n",
    "motor.stop()"
   ]
  },
  {
   "cell_type": "code",
   "execution_count": null,
   "metadata": {
    "collapsed": true
   },
   "outputs": [],
   "source": []
  }
 ],
 "metadata": {
  "kernelspec": {
   "display_name": "Python 3",
   "language": "python",
   "name": "python3"
  },
  "language_info": {
   "codemirror_mode": {
    "name": "ipython",
    "version": 3
   },
   "file_extension": ".py",
   "mimetype": "text/x-python",
   "name": "python",
   "nbconvert_exporter": "python",
   "pygments_lexer": "ipython3",
   "version": "3.6.0"
  }
 },
 "nbformat": 4,
 "nbformat_minor": 2
}
